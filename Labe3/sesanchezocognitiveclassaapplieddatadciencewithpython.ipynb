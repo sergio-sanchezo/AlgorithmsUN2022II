{
  "nbformat": 4,
  "nbformat_minor": 0,
  "metadata": {
    "colab": {
      "provenance": [],
      "toc_visible": true,
      "authorship_tag": "ABX9TyOyjbGFXfnnzyxrl8htyRCb",
      "include_colab_link": true
    },
    "kernelspec": {
      "name": "python3",
      "display_name": "Python 3"
    },
    "language_info": {
      "name": "python"
    }
  },
  "cells": [
    {
      "cell_type": "markdown",
      "metadata": {
        "id": "view-in-github",
        "colab_type": "text"
      },
      "source": [
        "<a href=\"https://colab.research.google.com/github/sergio-sanchezo/AlgorithmsUN2022II/blob/main/Labe3/sesanchezocognitiveclassaapplieddatadciencewithpython.ipynb\" target=\"_parent\"><img src=\"https://colab.research.google.com/assets/colab-badge.svg\" alt=\"Open In Colab\"/></a>"
      ]
    },
    {
      "cell_type": "markdown",
      "source": [
        "# LinkedIn\n"
      ],
      "metadata": {
        "id": "LSbPe8A0X146"
      }
    },
    {
      "cell_type": "markdown",
      "source": [
        "**Link:** https://www.linkedin.com/in/sergio-alejandro-sanchez-ortiz-7a4b3a238/"
      ],
      "metadata": {
        "id": "neZJDWeuYAdv"
      }
    },
    {
      "cell_type": "markdown",
      "source": [
        "<figure>\n",
        "<center>\n",
        "<img src='https://drive.google.com/uc?export=view&id=1YQnbi7ESIXh5VvwMeF4PpoXkuX6TjJth' />\n",
        "<figcaption>Linkedin certificates</figcaption></center>\n",
        "</figure>"
      ],
      "metadata": {
        "id": "yEcHabgxfXsW"
      }
    },
    {
      "cell_type": "markdown",
      "source": [
        "# **Certificados**"
      ],
      "metadata": {
        "id": "ENdxMQkTYY7q"
      }
    },
    {
      "cell_type": "markdown",
      "source": [
        "## **Python 101 for Data Science**\n",
        "\n",
        "<figure>\n",
        "<center>\n",
        "<img src='https://drive.google.com/uc?export=view&id=15mpES6zAbhXkriS-hvOhJEfcnkGk8pYP' />\n",
        "</center>\n",
        "</figure>\n",
        "\n",
        "## **Data Analysis with Python**\n",
        "<figure>\n",
        "<center>\n",
        "<img src='https://drive.google.com/uc?export=view&id=1RwkdxQ9iXORraYkNUXAby4qsPma8qbVm' />\n",
        "></center>\n",
        "</figure>\n",
        "\n",
        "## **Data Analysis with Python**\n",
        "<figure>\n",
        "<center>\n",
        "<img src='https://drive.google.com/uc?export=view&id=1X3l7Z83kRC-SIUFRzamDRekcGe3m5Ecv' />\n",
        "</center>\n",
        "</figure>"
      ],
      "metadata": {
        "id": "zXhAyUZObwOl"
      }
    }
  ]
}